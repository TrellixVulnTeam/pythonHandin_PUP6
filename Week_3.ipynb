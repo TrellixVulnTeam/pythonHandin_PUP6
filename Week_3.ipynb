{
 "cells": [
  {
   "cell_type": "markdown",
   "metadata": {},
   "source": [
    "# Week 3 handin"
   ]
  },
  {
   "cell_type": "markdown",
   "metadata": {},
   "source": [
    "## 01 Assignment\n",
    "Here is the text for the assignment linked to"
   ]
  },
  {
   "cell_type": "code",
   "execution_count": null,
   "metadata": {},
   "outputs": [],
   "source": []
  },
  {
   "source": [
    "# 02 Status\n",
    "#Obligatoriske opgaver er lavet, havde store problemer med at skabe Studentobjekter fra nested array i .csv fil. #Løsning i metode make_list_from_csv virker men er ikke sikker på det er den optimale måde at gøre det på.\n"
   ],
   "cell_type": "code",
   "metadata": {},
   "execution_count": null,
   "outputs": []
  },
  {
   "cell_type": "markdown",
   "metadata": {},
   "source": [
    "## 03 Solution part 1"
   ]
  },
  {
   "source": [
    "# Exercise 1.1-7 Method that creates n number of students\n",
    "%matplotlib inline\n",
    "%matplotlib notebook\n",
    "import random\n",
    "import csv\n",
    "import ast\n",
    "import platform\n",
    "%matplotlib notebook\n",
    "import matplotlib.pyplot as plt\n",
    "from modules.week3 import Student,Course,DataSheet\n",
    "\n",
    "if platform.system() == 'Windows':\n",
    "    newline = ''\n",
    "else:\n",
    "    newline = None\n",
    "names_genders_urls = [('John', 'm', 'img1'), ('Kate', 'f', 'img2'), ('Marie', 'f', 'img3'), ('Fred', 'm', 'img4'),\n",
    "                      ('Ann', 'f', 'img5'), ('Max', 'm', 'img6'), ('Roy', 'm', 'img7'), ('Rebecca', 'f', 'img8'),\n",
    "                      ('Keith', 'm', 'img9'), ('Sandra', 'f', 'img10')]\n",
    "\n",
    "course1 = Course('Biology', 'A1', 'George', 10)\n",
    "course2 = Course('Math', 'B2', 'Smiley', 15)\n",
    "course3 = Course('Geography', 'C3', 'Karen', 20)\n",
    "course4 = Course('History', 'D4', 'Simon', 25)\n",
    "course5 = Course('Physics', 'E5', 'Kelly', 30)\n",
    "course6 = Course('Chemistry', 'F6', 'Donald', 35)\n",
    "\n",
    "courses = [course1, course2, course3, course4, course5, course6]\n",
    "\n",
    "grades = [-3, 0, 2, 4, 7, 10, 12]\n",
    "\n",
    "\n",
    "def create_random_students(number):\n",
    "    result = []\n",
    "    i = 1\n",
    "    ii = 0\n",
    "    while i <= number:\n",
    "        r1 = random.randint(0, 5)\n",
    "        r_course = random.sample(courses, r1 + 1)\n",
    "        student_courses = []\n",
    "        for cr in r_course:\n",
    "            cr.grade = random.choice(grades)\n",
    "            student_courses.append(cr)\n",
    "        ds = DataSheet(student_courses)\n",
    "        stud = Student(names_genders_urls[ii][0], names_genders_urls[ii][1], names_genders_urls[ii][2], ds)\n",
    "\n",
    "        result.append(stud)\n",
    "        ii += 1\n",
    "        i += 1\n",
    "    return result\n",
    "\n",
    "my_list = create_random_students(10)\n",
    "print(my_list)\n"
   ],
   "cell_type": "code",
   "metadata": {},
   "execution_count": 2,
   "outputs": [
    {
     "output_type": "stream",
     "name": "stdout",
     "text": [
      "[Name: ('John','m',2,'img1'), Name: ('Kate','f',6,'img2'), Name: ('Marie','f',1,'img3'), Name: ('Fred','m',4,'img4'), Name: ('Ann','f',6,'img5')]\n"
     ]
    }
   ]
  },
  {
   "cell_type": "code",
   "execution_count": 5,
   "metadata": {},
   "outputs": [],
   "source": [
    "# 1.7A Writes students list to .csv\n",
    "def write_studs_to_csv(st_list):\n",
    "    with open(\"students2.csv\", 'w', newline=newline) as output_file:\n",
    "        output_writer = csv.writer(output_file)\n",
    "\n",
    "        for student in st_list:\n",
    "            student_courses = []\n",
    "\n",
    "            for course in student.data_sheet.courses:\n",
    "                student_courses.append([course.name, course.class_room, course.teacher, course.etcs, course.grade])\n",
    "            output_writer.writerow(\n",
    "                [student.name, student.gender, student_courses, student.image_url]\n",
    "            )\n",
    "\n",
    "write_studs_to_csv(my_list)\n"
   ]
  },
  {
   "source": [
    "#Ex 8A Make list of students from .csv file and print each stud.name, img, av grade\n",
    "def make_list_from_csv():\n",
    "    result = []\n",
    "    with open('students2.csv') as source:\n",
    "        reader = csv.reader(source)\n",
    "        for row in reader:\n",
    "            student_name = row[0]\n",
    "            student_gender = row[1]\n",
    "            stud_crs = ast.literal_eval(row[2])\n",
    "            student_img = row[3]\n",
    "            st_courses = []\n",
    "            for next_course in stud_crs:\n",
    "                next_course = Course(next_course[0], next_course[1], next_course[2], next_course[3], next_course[4])\n",
    "                st_courses.append(next_course)\n",
    "\n",
    "            student_ds = DataSheet(st_courses)\n",
    "            new_student = Student(student_name, student_gender, student_img, student_ds)\n",
    "            result.append(new_student)\n",
    "\n",
    "    return result\n",
    "\n",
    "print(make_list_from_csv())\n"
   ],
   "cell_type": "code",
   "metadata": {},
   "execution_count": null,
   "outputs": []
  },
  {
   "cell_type": "code",
   "execution_count": null,
   "metadata": {},
   "outputs": [],
   "source": [
    "#8B+C sort the list by avg_grade and make bar chart showing avg grade\n",
    "def stud_avg_grade(student):\n",
    "    return student.get_avg_grade()\n",
    "\n",
    "def create_barchart(list_students):\n",
    "    list_students.sort(key=stud_avg_grade)\n",
    "    names = []\n",
    "    grades = []\n",
    "    for student in list_students:\n",
    "        names.append(student.name)\n",
    "        grades.append(stud_avg_grade(student))\n",
    "    plt.bar(names, grades)\n",
    "    plt.xlabel(\"Student Names\")\n",
    "    plt.ylabel(\"Average Grades\")\n",
    "    plt.title(\"Student Grades\")\n",
    "\n",
    "    plt.show()\n",
    "\n",
    "stud_list = create_random_students(5)\n",
    "create_barchart(stud_list)"
   ]
  },
  {
   "cell_type": "code",
   "execution_count": null,
   "metadata": {},
   "outputs": [],
   "source": [
    "#9 Make a method on Student class that can show progression of the study in %\n",
    "def show_prog(list_students):\n",
    "    names = []\n",
    "    status = []\n",
    "    for student in list_students:\n",
    "        names.append(student.name)\n",
    "        status.append(student.ects_status())\n",
    "    plt.bar(names, status)\n",
    "    plt.xlabel(\"Student Name\")\n",
    "    plt.ylabel(\"Status in percent\")\n",
    "    plt.title(\"Student status\")\n",
    "\n",
    "    plt.show()\n",
    "\n",
    "\n",
    "show_prog(my_list)"
   ]
  },
  {
   "cell_type": "code",
   "execution_count": null,
   "metadata": {},
   "outputs": [],
   "source": [
    "#10 chart of distribution of study progression\n",
    "def progress_sort(student):\n",
    "    return student.ects_status()\n",
    "\n",
    "def progress_distr(st_list):\n",
    "    st_list.sort(key=progress_sort)\n",
    "    progression = {}\n",
    "    category_steps = [100, 90, 80, 70, 60, 50, 40, 30, 20, 10, 0]\n",
    "\n",
    "    for student in st_list:\n",
    "        s_progress = student.ects_status()\n",
    "        for category in category_steps:\n",
    "            if s_progress >= category:\n",
    "                c_progress = str(category) + \"%\"\n",
    "                if not c_progress in progression:\n",
    "                    progression[c_progress] = 1\n",
    "                else:\n",
    "                    progression[c_progress] = progression[c_progress] + 1\n",
    "                break\n",
    "\n",
    "    progress = list(progression.keys())\n",
    "    no_of_students = list(progression.values())\n",
    "\n",
    "    plt.bar(progress, no_of_students)\n",
    "    plt.xlabel(\"Deciles\")\n",
    "    plt.ylabel(\"Number of students\")\n",
    "    plt.title(\"Status distribution\")\n",
    "\n",
    "    plt.show()\n",
    "\n",
    "progress_distr(my_list)"
   ]
  },
  {
   "cell_type": "markdown",
   "metadata": {},
   "source": [
    "## 04 Solution part 2"
   ]
  },
  {
   "cell_type": "code",
   "execution_count": null,
   "metadata": {},
   "outputs": [],
   "source": [
    "# 2.1"
   ]
  },
  {
   "cell_type": "code",
   "execution_count": null,
   "metadata": {},
   "outputs": [],
   "source": []
  },
  {
   "cell_type": "code",
   "execution_count": null,
   "metadata": {},
   "outputs": [],
   "source": []
  }
 ],
 "metadata": {
  "kernelspec": {
   "display_name": "Python 3",
   "language": "python",
   "name": "python3"
  },
  "language_info": {
   "codemirror_mode": {
    "name": "ipython",
    "version": 3
   },
   "file_extension": ".py",
   "mimetype": "text/x-python",
   "name": "python",
   "nbconvert_exporter": "python",
   "pygments_lexer": "ipython3",
   "version": "3.7.6-final"
  }
 },
 "nbformat": 4,
 "nbformat_minor": 4
}